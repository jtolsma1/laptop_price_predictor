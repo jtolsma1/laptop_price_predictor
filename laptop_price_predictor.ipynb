{
 "cells": [
  {
   "cell_type": "markdown",
   "metadata": {},
   "source": [
    "## Laptop Price Predictor: Machine Learning for Production Environments"
   ]
  },
  {
   "cell_type": "markdown",
   "metadata": {},
   "source": [
    "_completed June 30, 2025_\n",
    "\n",
    "_author:_\n",
    "- Joe Tolsma (tolsmajdx@gmail.com)\n",
    "\n",
    "_datasets:_\n",
    "- public data sourced from https://www.kaggle.com/datasets/arnabchaki/laptop-price-prediction\n",
    "- accessed June 9, 2025\n",
    "- note: price currency is Indian Rupees (INR)"
   ]
  },
  {
   "cell_type": "code",
   "execution_count": 67,
   "metadata": {},
   "outputs": [],
   "source": [
    "import pandas as pd\n",
    "import numpy as np\n",
    "import matplotlib.pyplot as plt\n",
    "import seaborn as sns\n",
    "from typing import Dict\n",
    "import re\n",
    "import math\n",
    "import optuna\n",
    "import lightgbm as lgb\n",
    "from sklearn.model_selection import KFold\n",
    "from sklearn.metrics import r2_score\n",
    "import joblib\n",
    "from pathlib import Path"
   ]
  },
  {
   "cell_type": "code",
   "execution_count": 68,
   "metadata": {},
   "outputs": [],
   "source": [
    "MODEL_PATH = Path(\"laptop_predictor_files/model\")"
   ]
  },
  {
   "cell_type": "markdown",
   "metadata": {},
   "source": [
    "### Section 1: Basic EDA"
   ]
  },
  {
   "cell_type": "code",
   "execution_count": 69,
   "metadata": {},
   "outputs": [],
   "source": [
    "# the data is pre-split into training and test sets\n",
    "# let's combine them here; they may be re-split later but the train-test distinction means nothing now\n",
    "import1 = pd.read_csv(\"../../datasets/laptop_price_prediction/laptops_train.csv\",thousands = \",\")\n",
    "import2 = pd.read_csv(\"../../datasets/laptop_price_prediction/laptops_test.csv\",thousands = \",\")\n",
    "\n",
    "price_df = pd.concat([import1,import2],axis = 0).reset_index(drop = True)"
   ]
  },
  {
   "cell_type": "markdown",
   "metadata": {},
   "source": [
    "#### Checking For Missing Values"
   ]
  },
  {
   "cell_type": "code",
   "execution_count": 70,
   "metadata": {},
   "outputs": [
    {
     "name": "stdout",
     "output_type": "stream",
     "text": [
      "<class 'pandas.core.frame.DataFrame'>\n",
      "RangeIndex: 1302 entries, 0 to 1301\n",
      "Data columns (total 13 columns):\n",
      " #   Column                    Non-Null Count  Dtype  \n",
      "---  ------                    --------------  -----  \n",
      " 0   Manufacturer              1302 non-null   object \n",
      " 1   Model Name                1302 non-null   object \n",
      " 2   Category                  1302 non-null   object \n",
      " 3   Screen Size               1302 non-null   object \n",
      " 4   Screen                    1302 non-null   object \n",
      " 5   CPU                       1302 non-null   object \n",
      " 6   RAM                       1302 non-null   object \n",
      " 7    Storage                  1302 non-null   object \n",
      " 8   GPU                       1302 non-null   object \n",
      " 9   Operating System          1302 non-null   object \n",
      " 10  Operating System Version  1132 non-null   object \n",
      " 11  Weight                    1302 non-null   object \n",
      " 12  Price                     1302 non-null   float64\n",
      "dtypes: float64(1), object(12)\n",
      "memory usage: 132.4+ KB\n"
     ]
    }
   ],
   "source": [
    "price_df.info()"
   ]
  },
  {
   "cell_type": "code",
   "execution_count": 71,
   "metadata": {},
   "outputs": [
    {
     "data": {
      "text/html": [
       "<div>\n",
       "<style scoped>\n",
       "    .dataframe tbody tr th:only-of-type {\n",
       "        vertical-align: middle;\n",
       "    }\n",
       "\n",
       "    .dataframe tbody tr th {\n",
       "        vertical-align: top;\n",
       "    }\n",
       "\n",
       "    .dataframe thead th {\n",
       "        text-align: right;\n",
       "    }\n",
       "</style>\n",
       "<table border=\"1\" class=\"dataframe\">\n",
       "  <thead>\n",
       "    <tr style=\"text-align: right;\">\n",
       "      <th></th>\n",
       "      <th>Manufacturer</th>\n",
       "      <th>Model Name</th>\n",
       "      <th>Category</th>\n",
       "      <th>Screen Size</th>\n",
       "      <th>Screen</th>\n",
       "      <th>CPU</th>\n",
       "      <th>RAM</th>\n",
       "      <th>Storage</th>\n",
       "      <th>GPU</th>\n",
       "      <th>Operating System</th>\n",
       "      <th>Operating System Version</th>\n",
       "      <th>Weight</th>\n",
       "      <th>Price</th>\n",
       "    </tr>\n",
       "  </thead>\n",
       "  <tbody>\n",
       "    <tr>\n",
       "      <th>478</th>\n",
       "      <td>Dell</td>\n",
       "      <td>Inspiron 3576</td>\n",
       "      <td>Notebook</td>\n",
       "      <td>15.6\"</td>\n",
       "      <td>Full HD 1920x1080</td>\n",
       "      <td>Intel Core i5 8250U 1.6GHz</td>\n",
       "      <td>8GB</td>\n",
       "      <td>1TB HDD</td>\n",
       "      <td>AMD Radeon 520</td>\n",
       "      <td>Windows</td>\n",
       "      <td>10</td>\n",
       "      <td>2.2kg</td>\n",
       "      <td>6002100.00</td>\n",
       "    </tr>\n",
       "    <tr>\n",
       "      <th>724</th>\n",
       "      <td>MSI</td>\n",
       "      <td>GL72M 7REX</td>\n",
       "      <td>Gaming</td>\n",
       "      <td>17.3\"</td>\n",
       "      <td>Full HD 1920x1080</td>\n",
       "      <td>Intel Core i7 7700HQ 2.8GHz</td>\n",
       "      <td>8GB</td>\n",
       "      <td>128GB SSD +  1TB HDD</td>\n",
       "      <td>Nvidia GeForce GTX 1050 Ti</td>\n",
       "      <td>Windows</td>\n",
       "      <td>10</td>\n",
       "      <td>2.7kg</td>\n",
       "      <td>11990684.16</td>\n",
       "    </tr>\n",
       "  </tbody>\n",
       "</table>\n",
       "</div>"
      ],
      "text/plain": [
       "    Manufacturer     Model Name  Category Screen Size             Screen  \\\n",
       "478         Dell  Inspiron 3576  Notebook       15.6\"  Full HD 1920x1080   \n",
       "724          MSI     GL72M 7REX    Gaming       17.3\"  Full HD 1920x1080   \n",
       "\n",
       "                             CPU  RAM               Storage  \\\n",
       "478   Intel Core i5 8250U 1.6GHz  8GB               1TB HDD   \n",
       "724  Intel Core i7 7700HQ 2.8GHz  8GB  128GB SSD +  1TB HDD   \n",
       "\n",
       "                            GPU Operating System Operating System Version  \\\n",
       "478              AMD Radeon 520          Windows                       10   \n",
       "724  Nvidia GeForce GTX 1050 Ti          Windows                       10   \n",
       "\n",
       "    Weight        Price  \n",
       "478  2.2kg   6002100.00  \n",
       "724  2.7kg  11990684.16  "
      ]
     },
     "execution_count": 71,
     "metadata": {},
     "output_type": "execute_result"
    }
   ],
   "source": [
    "price_df.sample(2,random_state = 42)"
   ]
  },
  {
   "cell_type": "markdown",
   "metadata": {},
   "source": [
    "#### Found Missing Values\n",
    "\n",
    "`Operating System Version` has null values -- need to impute"
   ]
  },
  {
   "cell_type": "code",
   "execution_count": 72,
   "metadata": {},
   "outputs": [
    {
     "data": {
      "text/html": [
       "<div>\n",
       "<style scoped>\n",
       "    .dataframe tbody tr th:only-of-type {\n",
       "        vertical-align: middle;\n",
       "    }\n",
       "\n",
       "    .dataframe tbody tr th {\n",
       "        vertical-align: top;\n",
       "    }\n",
       "\n",
       "    .dataframe thead th {\n",
       "        text-align: right;\n",
       "    }\n",
       "</style>\n",
       "<table border=\"1\" class=\"dataframe\">\n",
       "  <thead>\n",
       "    <tr style=\"text-align: right;\">\n",
       "      <th></th>\n",
       "      <th>count</th>\n",
       "    </tr>\n",
       "    <tr>\n",
       "      <th>Operating System Version</th>\n",
       "      <th></th>\n",
       "    </tr>\n",
       "  </thead>\n",
       "  <tbody>\n",
       "    <tr>\n",
       "      <th>10</th>\n",
       "      <td>1071</td>\n",
       "    </tr>\n",
       "    <tr>\n",
       "      <th>10 S</th>\n",
       "      <td>8</td>\n",
       "    </tr>\n",
       "    <tr>\n",
       "      <th>7</th>\n",
       "      <td>45</td>\n",
       "    </tr>\n",
       "    <tr>\n",
       "      <th>X</th>\n",
       "      <td>8</td>\n",
       "    </tr>\n",
       "    <tr>\n",
       "      <th>NaN</th>\n",
       "      <td>170</td>\n",
       "    </tr>\n",
       "  </tbody>\n",
       "</table>\n",
       "</div>"
      ],
      "text/plain": [
       "                          count\n",
       "Operating System Version       \n",
       "10                         1071\n",
       "10 S                          8\n",
       "7                            45\n",
       "X                             8\n",
       "NaN                         170"
      ]
     },
     "metadata": {},
     "output_type": "display_data"
    },
    {
     "data": {
      "text/html": [
       "<div>\n",
       "<style scoped>\n",
       "    .dataframe tbody tr th:only-of-type {\n",
       "        vertical-align: middle;\n",
       "    }\n",
       "\n",
       "    .dataframe tbody tr th {\n",
       "        vertical-align: top;\n",
       "    }\n",
       "\n",
       "    .dataframe thead th {\n",
       "        text-align: right;\n",
       "    }\n",
       "</style>\n",
       "<table border=\"1\" class=\"dataframe\">\n",
       "  <thead>\n",
       "    <tr style=\"text-align: right;\">\n",
       "      <th></th>\n",
       "      <th></th>\n",
       "      <th>count</th>\n",
       "    </tr>\n",
       "    <tr>\n",
       "      <th>Operating System</th>\n",
       "      <th>Operating System Version</th>\n",
       "      <th></th>\n",
       "    </tr>\n",
       "  </thead>\n",
       "  <tbody>\n",
       "    <tr>\n",
       "      <th>Android</th>\n",
       "      <th>NaN</th>\n",
       "      <td>2</td>\n",
       "    </tr>\n",
       "    <tr>\n",
       "      <th>Chrome OS</th>\n",
       "      <th>NaN</th>\n",
       "      <td>27</td>\n",
       "    </tr>\n",
       "    <tr>\n",
       "      <th>Linux</th>\n",
       "      <th>NaN</th>\n",
       "      <td>62</td>\n",
       "    </tr>\n",
       "    <tr>\n",
       "      <th>Mac OS</th>\n",
       "      <th>X</th>\n",
       "      <td>8</td>\n",
       "    </tr>\n",
       "    <tr>\n",
       "      <th>No OS</th>\n",
       "      <th>NaN</th>\n",
       "      <td>66</td>\n",
       "    </tr>\n",
       "    <tr>\n",
       "      <th rowspan=\"3\" valign=\"top\">Windows</th>\n",
       "      <th>10</th>\n",
       "      <td>1071</td>\n",
       "    </tr>\n",
       "    <tr>\n",
       "      <th>10 S</th>\n",
       "      <td>8</td>\n",
       "    </tr>\n",
       "    <tr>\n",
       "      <th>7</th>\n",
       "      <td>45</td>\n",
       "    </tr>\n",
       "    <tr>\n",
       "      <th>macOS</th>\n",
       "      <th>NaN</th>\n",
       "      <td>13</td>\n",
       "    </tr>\n",
       "  </tbody>\n",
       "</table>\n",
       "</div>"
      ],
      "text/plain": [
       "                                           count\n",
       "Operating System Operating System Version       \n",
       "Android          NaN                           2\n",
       "Chrome OS        NaN                          27\n",
       "Linux            NaN                          62\n",
       "Mac OS           X                             8\n",
       "No OS            NaN                          66\n",
       "Windows          10                         1071\n",
       "                 10 S                          8\n",
       "                 7                            45\n",
       "macOS            NaN                          13"
      ]
     },
     "metadata": {},
     "output_type": "display_data"
    }
   ],
   "source": [
    "# investigating the best way to fill missing values in \"Operating System Version\"\n",
    "display(pd.DataFrame(price_df[\"Operating System Version\"].value_counts(dropna = False).sort_index()))\n",
    "display(pd.DataFrame(price_df[[\"Operating System\",\"Operating System Version\"]].value_counts(dropna = False)).sort_index())"
   ]
  },
  {
   "cell_type": "markdown",
   "metadata": {},
   "source": [
    "`Operating System Version` has three issues:\n",
    "1) 'Mac OS' and 'macOS' coexist in the dataset and need to be unified\n",
    "2) Several operating systems are unversioned\n",
    "3) Several machines have no operating system installed "
   ]
  },
  {
   "cell_type": "code",
   "execution_count": 73,
   "metadata": {},
   "outputs": [],
   "source": [
    "# unifying 'Mac OS' and 'macOS'\n",
    "price_df[\"Operating System\"] = price_df[\"Operating System\"].replace(to_replace = \"macOS\",value = \"Mac OS\")\n",
    "\n",
    "# filling MacOS missing OS version with the most commom (known) MacOS version in the dataset\n",
    "macos_df = price_df.groupby([\"Operating System\",\"Operating System Version\"])[\"Operating System Version\"].count().rename(\"Operating System Count\").reset_index()\n",
    "macos_df = macos_df[macos_df[\"Operating System\"] == \"Mac OS\"]\n",
    "macos_missing_version_fill = macos_df.iloc[macos_df[\"Operating System Count\"].idxmax()][\"Operating System Version\"]\n",
    "price_df.loc[price_df[\"Operating System\"] == \"Mac OS\",[\"Operating System Version\"]] = macos_missing_version_fill\n",
    "\n",
    "# dealing with unversioned or uninstalled operating systems\n",
    "price_df.loc[price_df[\"Operating System\"] == \"No OS\",[\"Operating System Version\"]] = \"No OS\"\n",
    "price_df[\"Operating System Version\"] = price_df[\"Operating System Version\"].fillna(\"Unversioned\")"
   ]
  },
  {
   "cell_type": "markdown",
   "metadata": {},
   "source": [
    "### Section 2: Feature Engineering"
   ]
  },
  {
   "cell_type": "markdown",
   "metadata": {},
   "source": [
    "#### Feature Engineering Strategies\n",
    "\n",
    "**Simple Categorical Variables:**\n",
    "* `Manufacturer, Model Name, Category, Operating System, Operating System Version`:\n",
    "\n",
    "    - Encode the most common values with integers\n",
    "    \n",
    "    - Group rare values into an \"other\" category and encode with a single integer\n",
    "    \n",
    "    - If the most common values are < 80-90% of total values, do not use as a feature\n",
    "    \n",
    "**Complex Categorical Variables**\n",
    "* `CPU, GPU`:\n",
    "\n",
    "    - Break into columns containing brand, product, clock speed, and other simple components\n",
    "\n",
    "    - For simple components that are categorical, use the feature encoding approach described for \"simple categorical variables\" above\n",
    "\n",
    "    - For numerical components, convert to numerical datatypes\n",
    "\n",
    "**Numerical Data + Metadata**\n",
    "* `Storage`\n",
    "\n",
    "    - Calculate total GB capacity\n",
    "\n",
    "    - Segment total GB by format (SSD GB, HDD GB, etc.)\n",
    "\n",
    "* `Screen`\n",
    "\n",
    "    - Compute resolution (pixels/in) in combination with `Screen Size`\n",
    "\n",
    "    - Use one-hot encoding to identify common marketing terms (\"Retina\")\n",
    "\n",
    "**Simple Numerical**\n",
    "* `RAM, Weight`\n",
    "\n",
    "- Remove units (\"GB\",\"kg\") and convert to numerical datatypes"
   ]
  },
  {
   "cell_type": "markdown",
   "metadata": {},
   "source": [
    "#### Create Functions to Enable Feature Engineering"
   ]
  },
  {
   "cell_type": "code",
   "execution_count": 74,
   "metadata": {},
   "outputs": [],
   "source": [
    "# In a categorical column (e.g. Manufacturer), compute the top N categories by frequency\n",
    "# Replace all categories outside of top N with \"other\"\n",
    "# Also return proportion of total values comprised by top N -> if < 80-90%, don't encode or use as a feature\n",
    "\n",
    "def TopNCategories(series, N=10, replace_string=\"Other\"):\n",
    "    top_N_idx = series.value_counts().nlargest(N).index\n",
    "    top_N_df = series.where(series.isin(top_N_idx), replace_string)\n",
    "    ratio = top_N_df[top_N_df != replace_string].shape[0] / top_N_df.shape[0]\n",
    "    return top_N_df,ratio"
   ]
  },
  {
   "cell_type": "code",
   "execution_count": 75,
   "metadata": {},
   "outputs": [],
   "source": [
    "# Convert text-based categorical features to integer encodings\n",
    "# Use together with TopNCategories -> find top N categories and give them distinct encodings\n",
    "# ...then encode all others with a single integer value\n",
    "\n",
    "def NumericalEncode(series:pd.Series,replace_string:str) -> pd.Series:\n",
    "    unique_item_map = {code:idx for idx,code in enumerate(series.unique())}\n",
    "    feature_encoded = series.map(unique_item_map)\n",
    "    if replace_string in series.unique():\n",
    "        feature_encoded.fillna(replace_string)\n",
    "    \n",
    "    return feature_encoded, unique_item_map"
   ]
  },
  {
   "cell_type": "markdown",
   "metadata": {},
   "source": [
    "#### Feature Engineering: Manufacturer"
   ]
  },
  {
   "cell_type": "code",
   "execution_count": 76,
   "metadata": {},
   "outputs": [
    {
     "name": "stdout",
     "output_type": "stream",
     "text": [
      "The ratio of top 8 most common models to all models is 96.1%\n"
     ]
    }
   ],
   "source": [
    "# Compute top N manufacturers and determine if encoding is appropriate\n",
    "\n",
    "N_manufs = 8\n",
    "replace_string_manuf = \"Other\"\n",
    "\n",
    "top_manufs, top_manufs_ratio = TopNCategories(price_df[\"Manufacturer\"],N = N_manufs,replace_string=replace_string_manuf)\n",
    "\n",
    "print(f\"The ratio of top {N_manufs} most common models to all models is {round(top_manufs_ratio*100,1)}%\")"
   ]
  },
  {
   "cell_type": "code",
   "execution_count": 77,
   "metadata": {},
   "outputs": [
    {
     "data": {
      "text/html": [
       "<div>\n",
       "<style scoped>\n",
       "    .dataframe tbody tr th:only-of-type {\n",
       "        vertical-align: middle;\n",
       "    }\n",
       "\n",
       "    .dataframe tbody tr th {\n",
       "        vertical-align: top;\n",
       "    }\n",
       "\n",
       "    .dataframe thead th {\n",
       "        text-align: right;\n",
       "    }\n",
       "</style>\n",
       "<table border=\"1\" class=\"dataframe\">\n",
       "  <thead>\n",
       "    <tr style=\"text-align: right;\">\n",
       "      <th></th>\n",
       "      <th>Manufacturer</th>\n",
       "      <th>Manufacturer</th>\n",
       "    </tr>\n",
       "  </thead>\n",
       "  <tbody>\n",
       "    <tr>\n",
       "      <th>478</th>\n",
       "      <td>Dell</td>\n",
       "      <td>4</td>\n",
       "    </tr>\n",
       "    <tr>\n",
       "      <th>724</th>\n",
       "      <td>MSI</td>\n",
       "      <td>7</td>\n",
       "    </tr>\n",
       "    <tr>\n",
       "      <th>312</th>\n",
       "      <td>MSI</td>\n",
       "      <td>7</td>\n",
       "    </tr>\n",
       "    <tr>\n",
       "      <th>851</th>\n",
       "      <td>Asus</td>\n",
       "      <td>3</td>\n",
       "    </tr>\n",
       "    <tr>\n",
       "      <th>1275</th>\n",
       "      <td>Dell</td>\n",
       "      <td>4</td>\n",
       "    </tr>\n",
       "  </tbody>\n",
       "</table>\n",
       "</div>"
      ],
      "text/plain": [
       "      Manufacturer  Manufacturer\n",
       "478           Dell             4\n",
       "724            MSI             7\n",
       "312            MSI             7\n",
       "851           Asus             3\n",
       "1275          Dell             4"
      ]
     },
     "execution_count": 77,
     "metadata": {},
     "output_type": "execute_result"
    }
   ],
   "source": [
    "# Since numerical encoding makese sense here, use the dedicated function to encode\n",
    "manuf_encoded, manuf_code_map = NumericalEncode(top_manufs,replace_string = replace_string_manuf)\n",
    "\n",
    "# Display some sample data\n",
    "pd.concat([price_df[\"Manufacturer\"],manuf_encoded],axis = 1).sample(5,random_state=42)"
   ]
  },
  {
   "cell_type": "markdown",
   "metadata": {},
   "source": [
    "#### Feature Engineering: Model"
   ]
  },
  {
   "cell_type": "code",
   "execution_count": 78,
   "metadata": {},
   "outputs": [
    {
     "name": "stdout",
     "output_type": "stream",
     "text": [
      "The ratio of top 20 most common models to all models is 23.1%\n"
     ]
    }
   ],
   "source": [
    "# Compute top N manufacturers and determine if encoding is appropriate\n",
    "\n",
    "N_models = 20\n",
    "replace_string_model = \"Other\"\n",
    "top_models, top_models_ratio = TopNCategories(price_df[\"Model Name\"],N = N_models,replace_string=replace_string_model)\n",
    "\n",
    "print(f\"The ratio of top {N_models} most common models to all models is {round(top_models_ratio*100,1)}%\")"
   ]
  },
  {
   "cell_type": "code",
   "execution_count": 79,
   "metadata": {},
   "outputs": [
    {
     "data": {
      "text/html": [
       "<div>\n",
       "<style scoped>\n",
       "    .dataframe tbody tr th:only-of-type {\n",
       "        vertical-align: middle;\n",
       "    }\n",
       "\n",
       "    .dataframe tbody tr th {\n",
       "        vertical-align: top;\n",
       "    }\n",
       "\n",
       "    .dataframe thead th {\n",
       "        text-align: right;\n",
       "    }\n",
       "</style>\n",
       "<table border=\"1\" class=\"dataframe\">\n",
       "  <thead>\n",
       "    <tr style=\"text-align: right;\">\n",
       "      <th></th>\n",
       "      <th>Model Name</th>\n",
       "      <th>Model Freq</th>\n",
       "    </tr>\n",
       "  </thead>\n",
       "  <tbody>\n",
       "    <tr>\n",
       "      <th>478</th>\n",
       "      <td>Inspiron 3576</td>\n",
       "      <td>6</td>\n",
       "    </tr>\n",
       "    <tr>\n",
       "      <th>724</th>\n",
       "      <td>GL72M 7REX</td>\n",
       "      <td>2</td>\n",
       "    </tr>\n",
       "    <tr>\n",
       "      <th>312</th>\n",
       "      <td>GE63VR 7RF</td>\n",
       "      <td>1</td>\n",
       "    </tr>\n",
       "    <tr>\n",
       "      <th>851</th>\n",
       "      <td>Rog GL502VM-DS74</td>\n",
       "      <td>1</td>\n",
       "    </tr>\n",
       "    <tr>\n",
       "      <th>1275</th>\n",
       "      <td>Inspiron 3567</td>\n",
       "      <td>29</td>\n",
       "    </tr>\n",
       "  </tbody>\n",
       "</table>\n",
       "</div>"
      ],
      "text/plain": [
       "            Model Name  Model Freq\n",
       "478      Inspiron 3576           6\n",
       "724         GL72M 7REX           2\n",
       "312         GE63VR 7RF           1\n",
       "851   Rog GL502VM-DS74           1\n",
       "1275     Inspiron 3567          29"
      ]
     },
     "execution_count": 79,
     "metadata": {},
     "output_type": "execute_result"
    }
   ],
   "source": [
    "# Since numerical encoding is not suitable, I made a frequency-based feature\n",
    "# Later, I realized that a frequency-based feature makes no sense for serving individual predictions, so it was dropped\n",
    "\n",
    "model_freq = price_df[\"Model Name\"].value_counts().rename(\"Model Freq\").to_frame().reset_index()\n",
    "model_freq = pd.merge(price_df[\"Model Name\"],model_freq,how = \"left\",on = \"Model Name\")\n",
    "model_freq.sample(5,random_state=42)"
   ]
  },
  {
   "cell_type": "code",
   "execution_count": 80,
   "metadata": {},
   "outputs": [],
   "source": [
    "model_freq.drop(\"Model Name\",axis = 1,inplace = True)"
   ]
  },
  {
   "cell_type": "markdown",
   "metadata": {},
   "source": [
    "#### Feature Engineering: Category"
   ]
  },
  {
   "cell_type": "code",
   "execution_count": 81,
   "metadata": {},
   "outputs": [
    {
     "name": "stdout",
     "output_type": "stream",
     "text": [
      "The ratio of top 10 most common laptop categories to all categories is 100.0%\n"
     ]
    }
   ],
   "source": [
    "# Compute top N categories and determine if encoding is appropriate\n",
    "N_cats = 10\n",
    "replace_string_cat = \"Other\"\n",
    "top_cats,top_cat_ratio = TopNCategories(price_df[\"Category\"],N = N_cats, replace_string=replace_string_cat)\n",
    "\n",
    "print(f\"The ratio of top {N_cats} most common laptop categories to all categories is {round(top_cat_ratio*100,1)}%\")"
   ]
  },
  {
   "cell_type": "code",
   "execution_count": 82,
   "metadata": {},
   "outputs": [
    {
     "data": {
      "text/html": [
       "<div>\n",
       "<style scoped>\n",
       "    .dataframe tbody tr th:only-of-type {\n",
       "        vertical-align: middle;\n",
       "    }\n",
       "\n",
       "    .dataframe tbody tr th {\n",
       "        vertical-align: top;\n",
       "    }\n",
       "\n",
       "    .dataframe thead th {\n",
       "        text-align: right;\n",
       "    }\n",
       "</style>\n",
       "<table border=\"1\" class=\"dataframe\">\n",
       "  <thead>\n",
       "    <tr style=\"text-align: right;\">\n",
       "      <th></th>\n",
       "      <th>Category</th>\n",
       "      <th>Category</th>\n",
       "    </tr>\n",
       "  </thead>\n",
       "  <tbody>\n",
       "    <tr>\n",
       "      <th>478</th>\n",
       "      <td>Notebook</td>\n",
       "      <td>1</td>\n",
       "    </tr>\n",
       "    <tr>\n",
       "      <th>724</th>\n",
       "      <td>Gaming</td>\n",
       "      <td>3</td>\n",
       "    </tr>\n",
       "    <tr>\n",
       "      <th>312</th>\n",
       "      <td>Gaming</td>\n",
       "      <td>3</td>\n",
       "    </tr>\n",
       "    <tr>\n",
       "      <th>851</th>\n",
       "      <td>Gaming</td>\n",
       "      <td>3</td>\n",
       "    </tr>\n",
       "    <tr>\n",
       "      <th>1275</th>\n",
       "      <td>Notebook</td>\n",
       "      <td>1</td>\n",
       "    </tr>\n",
       "  </tbody>\n",
       "</table>\n",
       "</div>"
      ],
      "text/plain": [
       "      Category  Category\n",
       "478   Notebook         1\n",
       "724     Gaming         3\n",
       "312     Gaming         3\n",
       "851     Gaming         3\n",
       "1275  Notebook         1"
      ]
     },
     "execution_count": 82,
     "metadata": {},
     "output_type": "execute_result"
    }
   ],
   "source": [
    "# Since numerical encoding makese sense here, use the dedicated function to encode\n",
    "category_encoded, category_code_map = NumericalEncode(top_cats,replace_string=replace_string_cat)\n",
    "\n",
    "# Display some sample data\n",
    "pd.concat([price_df[\"Category\"],category_encoded],axis = 1).sample(5,random_state=42)"
   ]
  },
  {
   "cell_type": "markdown",
   "metadata": {},
   "source": [
    "#### Feature Engineering: Screen"
   ]
  },
  {
   "cell_type": "code",
   "execution_count": 83,
   "metadata": {},
   "outputs": [
    {
     "data": {
      "image/png": "[encoded data removed]",
      "text/plain": [
       "<Figure size 640x480 with 1 Axes>"
      ]
     },
     "metadata": {},
     "output_type": "display_data"
    }
   ],
   "source": [
    "# Convert screen size (stored as strings with units included) to numerical type\n",
    "price_df[\"Screen Size\"] = price_df[\"Screen Size\"].str.strip('\"').astype(\"float32\")\n",
    "screen_in = price_df[\"Screen Size\"]\n",
    "\n",
    "# Plot the distribution to look for outliers or other unusual patterns\n",
    "plot_bins = np.arange(\n",
    "    start = int(screen_in.min()), \n",
    "    stop = int(screen_in.max())+1, \n",
    "    step = 1\n",
    ")\n",
    "\n",
    "ax = sns.histplot(data = screen_in,kde=True,bins = plot_bins,color = \"blue\")\n",
    "ax.set_xticks(plot_bins)\n",
    "ax.set_xlabel(\"Screen Size (Inches)\")\n",
    "ax.set_ylabel(\"Row Count\")\n",
    "ax.set_title(\"Screen Size (Inches) Training Data Histplot\");"
   ]
  },
  {
   "cell_type": "code",
   "execution_count": 84,
   "metadata": {},
   "outputs": [],
   "source": [
    "# Use a dedicated function to convert \"Screen\" data to one-hot columns of marketing terms, as well as total pixels\n",
    "\n",
    "def FeaturizeScreen(screen_spec:str) -> Dict:\n",
    "\n",
    "    screen_keywords = r'\\b(IPS|4K|Touchscreen|Retina)\\b' # regex containing common marketing terms\n",
    "\n",
    "    # regex search function\n",
    "    found_keywords = re.findall(screen_keywords,screen_spec,re.IGNORECASE)\n",
    "    found_keywords = [x.upper() for x in found_keywords]  \n",
    "\n",
    "    # store presence or absence of each marketing term as a local variable\n",
    "    has_ips = int(\"IPS\" in found_keywords)\n",
    "    has_4k = int(\"4K\" in found_keywords)\n",
    "    has_touchscreen = int(\"TOUCHSCREEN\" in found_keywords)\n",
    "    has_retina = int(\"RETINA\" in found_keywords)\n",
    "\n",
    "    pixel_dim_pattern = r'(?P<width>\\d{3,4})\\s*[xX×]\\s*(?P<height>\\d{3,4})' # regex searching for pixel dimensions\n",
    "\n",
    "    # store pixel dimensions as the quantity of total diagonal pixels\n",
    "    match = re.search(pixel_dim_pattern,screen_spec)\n",
    "    if match:\n",
    "        width = int(match.group(\"width\"))\n",
    "        height = int(match.group(\"height\"))\n",
    "        # pixel_count = width*height # replaced with size-normalized resolution\n",
    "        diag_pixels = math.sqrt(width**2 + height**2)\n",
    "    else:\n",
    "        diag_pixels = None\n",
    "\n",
    "    # return one-hot encoded columns for marketing terms and diagonal resolution\n",
    "    return {\"IPS\":has_ips,\"4K\":has_4k,\"Touchscreen\":has_touchscreen,\"Retina\":has_retina,\"Diag Resolution\":diag_pixels}\n"
   ]
  },
  {
   "cell_type": "code",
   "execution_count": 85,
   "metadata": {},
   "outputs": [],
   "source": [
    "# combine the output of the \"FeaturizeScreen\" function with the screen size column\n",
    "screen_features = pd.concat([\n",
    "    pd.DataFrame(price_df[\"Screen\"].apply(FeaturizeScreen).tolist()),\n",
    "    screen_in\n",
    "],axis = 1\n",
    ")\n",
    "\n",
    "# Compute a \"pixels per inch\" value for each laptop using diagonal resolution and total screen size\n",
    "screen_features[\"Screen Resolution\"] = screen_features[\"Diag Resolution\"] / screen_features[\"Screen Size\"]\n",
    "screen_features = screen_features.drop([\"Diag Resolution\",\"Screen Size\"],axis = 1)"
   ]
  },
  {
   "cell_type": "code",
   "execution_count": 86,
   "metadata": {},
   "outputs": [
    {
     "data": {
      "text/html": [
       "<div>\n",
       "<style scoped>\n",
       "    .dataframe tbody tr th:only-of-type {\n",
       "        vertical-align: middle;\n",
       "    }\n",
       "\n",
       "    .dataframe tbody tr th {\n",
       "        vertical-align: top;\n",
       "    }\n",
       "\n",
       "    .dataframe thead th {\n",
       "        text-align: right;\n",
       "    }\n",
       "</style>\n",
       "<table border=\"1\" class=\"dataframe\">\n",
       "  <thead>\n",
       "    <tr style=\"text-align: right;\">\n",
       "      <th></th>\n",
       "      <th>IPS</th>\n",
       "      <th>4K</th>\n",
       "      <th>Touchscreen</th>\n",
       "      <th>Retina</th>\n",
       "      <th>Screen Resolution</th>\n",
       "    </tr>\n",
       "  </thead>\n",
       "  <tbody>\n",
       "    <tr>\n",
       "      <th>724</th>\n",
       "      <td>0</td>\n",
       "      <td>0</td>\n",
       "      <td>0</td>\n",
       "      <td>0</td>\n",
       "      <td>127.335680</td>\n",
       "    </tr>\n",
       "    <tr>\n",
       "      <th>14</th>\n",
       "      <td>1</td>\n",
       "      <td>0</td>\n",
       "      <td>0</td>\n",
       "      <td>1</td>\n",
       "      <td>226.415547</td>\n",
       "    </tr>\n",
       "    <tr>\n",
       "      <th>165</th>\n",
       "      <td>1</td>\n",
       "      <td>0</td>\n",
       "      <td>0</td>\n",
       "      <td>0</td>\n",
       "      <td>141.211995</td>\n",
       "    </tr>\n",
       "    <tr>\n",
       "      <th>823</th>\n",
       "      <td>0</td>\n",
       "      <td>0</td>\n",
       "      <td>0</td>\n",
       "      <td>0</td>\n",
       "      <td>141.211995</td>\n",
       "    </tr>\n",
       "    <tr>\n",
       "      <th>459</th>\n",
       "      <td>0</td>\n",
       "      <td>0</td>\n",
       "      <td>0</td>\n",
       "      <td>0</td>\n",
       "      <td>106.113067</td>\n",
       "    </tr>\n",
       "  </tbody>\n",
       "</table>\n",
       "</div>"
      ],
      "text/plain": [
       "     IPS  4K  Touchscreen  Retina  Screen Resolution\n",
       "724    0   0            0       0         127.335680\n",
       "14     1   0            0       1         226.415547\n",
       "165    1   0            0       0         141.211995\n",
       "823    0   0            0       0         141.211995\n",
       "459    0   0            0       0         106.113067"
      ]
     },
     "execution_count": 86,
     "metadata": {},
     "output_type": "execute_result"
    }
   ],
   "source": [
    "# Display some sample data\n",
    "screen_features.sample(5,random_state=6)"
   ]
  },
  {
   "cell_type": "markdown",
   "metadata": {},
   "source": [
    "#### Feature Engineering: CPU"
   ]
  },
  {
   "cell_type": "code",
   "execution_count": 87,
   "metadata": {},
   "outputs": [],
   "source": [
    "# Use a dedicated function to break the CPU data into brand, product, clock speed, and number of cores\n",
    "\n",
    "def FeaturizeCPU(cpu_string:str) -> Dict:\n",
    "\n",
    "    # regex search for CPU brand, product, clock speed\n",
    "    brand_clock_pattern = r'(?P<CPUBrand>Intel|AMD|Apple|Samsung)\\s+(?P<CPUProduct>.*?)(?P<CPUGhz>\\d+\\.?\\d*)\\s*GHz'\n",
    "\n",
    "    # regex pattern looking for core count using traditional Greek numerical prefixes\n",
    "    core_pattern = r'\\b(?P<CoreLabel>Dual|Quad|Hexa|Octa|Deca|Dodeca|Hexadeca|\\d{1,2})\\s+Core\\b'\n",
    "\n",
    "    brand_clock_match = re.search(brand_clock_pattern,cpu_string,re.IGNORECASE)\n",
    "\n",
    "    if brand_clock_match:\n",
    "\n",
    "        # store parsed text data as a dictionary\n",
    "        cpu_data = brand_clock_match.groupdict()\n",
    "\n",
    "        # convert clock speed to a number in GHz (assumes all processors are GHz)\n",
    "        cpu_data['CPUGhz'] = float(cpu_data[\"CPUGhz\"]) if cpu_data[\"CPUGhz\"] else None\n",
    "\n",
    "        # separate product string from other data\n",
    "        core_match = re.search(core_pattern,cpu_data[\"CPUProduct\"],re.IGNORECASE)\n",
    "\n",
    "        # if CPU data contains a \"number of cores\" expression, map that expression to an integer\n",
    "        if core_match:\n",
    "            core_text = core_match.group(\"CoreLabel\")\n",
    "            core_map = { # overly complete to search for all possibilities, even though only 'Dual' and 'Quad' are likely\n",
    "                \"Dual\":2,\n",
    "                \"Quad\":4,\n",
    "                \"Hexa\":6,\n",
    "                \"Octa\":8,\n",
    "                \"Deca\":10,\n",
    "                \"Dodeca\":12,\n",
    "                \"Hexadeca\":16\n",
    "            }\n",
    "        \n",
    "            cpu_data[\"CPU Core Count\"] = core_map.get(core_text.title(),None) if core_text else None\n",
    "\n",
    "            return cpu_data\n",
    "        \n",
    "        # Note: most CPUs in the training dataset do not specify core counts; in these situations, leave as NaN \n",
    "        else:\n",
    "            cpu_data[\"CPU Core Count\"] = None\n",
    "            return cpu_data\n",
    "        \n",
    "    else: \n",
    "        return {\"CPUBrand\":None,\"CPUProduct\":None,\"CPUGhz\":None,\"CPU Core Count\":None}"
   ]
  },
  {
   "cell_type": "code",
   "execution_count": 88,
   "metadata": {},
   "outputs": [],
   "source": [
    "# execute the function to break CPU data into component parts\n",
    "cpu_features_raw = pd.DataFrame(price_df[\"CPU\"].apply(FeaturizeCPU).tolist())\n",
    "\n",
    "# clean up the results\n",
    "cpu_features_raw = cpu_features_raw.rename({\"CPUBrand\":\"CPU Brand\",\"CPUProduct\":\"CPU Product\",\"CPUGhz\":\"CPU Ghz\"},axis = 1)\n",
    "cpu_features_raw[\"CPU Product\"] = cpu_features_raw[\"CPU Product\"].str.strip(\" \")"
   ]
  },
  {
   "cell_type": "code",
   "execution_count": 89,
   "metadata": {},
   "outputs": [
    {
     "name": "stdout",
     "output_type": "stream",
     "text": [
      "Top 20 CPU products constitute 83.6% of all possible CPU product types\n"
     ]
    }
   ],
   "source": [
    "# Compute top N CPU product types and determine if encoding is appropriate\n",
    "N_cpu = 20\n",
    "replace_string_cpu_prod = \"Other\"\n",
    "top_cpus, top_cpu_ratio = TopNCategories(cpu_features_raw[\"CPU Product\"],N = N_cpu,replace_string=replace_string_cpu_prod)\n",
    "\n",
    "print(f\"Top {N_cpu} CPU products constitute {round(top_cpu_ratio*100,1)}% of all possible CPU product types\")"
   ]
  },
  {
   "cell_type": "code",
   "execution_count": 90,
   "metadata": {},
   "outputs": [
    {
     "name": "stdout",
     "output_type": "stream",
     "text": [
      "Top 8 CPU brands constitute 100% of all possible CPU brands\n"
     ]
    }
   ],
   "source": [
    "# Compute top N CPU brands and determine if encoding is appropriate\n",
    "N_cpu_brand = 8\n",
    "replace_string_cpu_brand = \"Other\"\n",
    "top_cpu_brands, top_cpu_brand_ratio = TopNCategories(cpu_features_raw[\"CPU Brand\"],N = N_cpu,replace_string = replace_string_cpu_brand)\n",
    "\n",
    "print(f\"Top {N_cpu_brand} CPU brands constitute {round(top_cpu_brand_ratio)*100}% of all possible CPU brands\")"
   ]
  },
  {
   "cell_type": "code",
   "execution_count": 91,
   "metadata": {},
   "outputs": [],
   "source": [
    "# Since encoding makes sense for both CPU product and CPU brand, encode top N for both\n",
    "cpu_prod_encoded,cpu_prod_code_map = NumericalEncode(top_cpus,replace_string=replace_string_cpu_prod)\n",
    "cpu_brand_encoded,cpu_brand_code_map = NumericalEncode(top_cpu_brands,replace_string = replace_string_cpu_brand)"
   ]
  },
  {
   "cell_type": "code",
   "execution_count": 92,
   "metadata": {},
   "outputs": [
    {
     "data": {
      "text/html": [
       "<div>\n",
       "<style scoped>\n",
       "    .dataframe tbody tr th:only-of-type {\n",
       "        vertical-align: middle;\n",
       "    }\n",
       "\n",
       "    .dataframe tbody tr th {\n",
       "        vertical-align: top;\n",
       "    }\n",
       "\n",
       "    .dataframe thead th {\n",
       "        text-align: right;\n",
       "    }\n",
       "</style>\n",
       "<table border=\"1\" class=\"dataframe\">\n",
       "  <thead>\n",
       "    <tr style=\"text-align: right;\">\n",
       "      <th></th>\n",
       "      <th>CPU Product</th>\n",
       "      <th>CPU Product</th>\n",
       "    </tr>\n",
       "  </thead>\n",
       "  <tbody>\n",
       "    <tr>\n",
       "      <th>478</th>\n",
       "      <td>Core i5 8250U</td>\n",
       "      <td>5</td>\n",
       "    </tr>\n",
       "    <tr>\n",
       "      <th>724</th>\n",
       "      <td>Core i7 7700HQ</td>\n",
       "      <td>11</td>\n",
       "    </tr>\n",
       "    <tr>\n",
       "      <th>312</th>\n",
       "      <td>Core i7 7700HQ</td>\n",
       "      <td>11</td>\n",
       "    </tr>\n",
       "    <tr>\n",
       "      <th>851</th>\n",
       "      <td>Core i7 7700HQ</td>\n",
       "      <td>11</td>\n",
       "    </tr>\n",
       "    <tr>\n",
       "      <th>1275</th>\n",
       "      <td>Core i3 7100U</td>\n",
       "      <td>8</td>\n",
       "    </tr>\n",
       "  </tbody>\n",
       "</table>\n",
       "</div>"
      ],
      "text/plain": [
       "         CPU Product  CPU Product\n",
       "478    Core i5 8250U            5\n",
       "724   Core i7 7700HQ           11\n",
       "312   Core i7 7700HQ           11\n",
       "851   Core i7 7700HQ           11\n",
       "1275   Core i3 7100U            8"
      ]
     },
     "metadata": {},
     "output_type": "display_data"
    },
    {
     "data": {
      "text/html": [
       "<div>\n",
       "<style scoped>\n",
       "    .dataframe tbody tr th:only-of-type {\n",
       "        vertical-align: middle;\n",
       "    }\n",
       "\n",
       "    .dataframe tbody tr th {\n",
       "        vertical-align: top;\n",
       "    }\n",
       "\n",
       "    .dataframe thead th {\n",
       "        text-align: right;\n",
       "    }\n",
       "</style>\n",
       "<table border=\"1\" class=\"dataframe\">\n",
       "  <thead>\n",
       "    <tr style=\"text-align: right;\">\n",
       "      <th></th>\n",
       "      <th>CPU Brand</th>\n",
       "      <th>CPU Brand</th>\n",
       "    </tr>\n",
       "  </thead>\n",
       "  <tbody>\n",
       "    <tr>\n",
       "      <th>1232</th>\n",
       "      <td>Intel</td>\n",
       "      <td>0</td>\n",
       "    </tr>\n",
       "    <tr>\n",
       "      <th>1030</th>\n",
       "      <td>AMD</td>\n",
       "      <td>1</td>\n",
       "    </tr>\n",
       "    <tr>\n",
       "      <th>163</th>\n",
       "      <td>Intel</td>\n",
       "      <td>0</td>\n",
       "    </tr>\n",
       "    <tr>\n",
       "      <th>1012</th>\n",
       "      <td>Intel</td>\n",
       "      <td>0</td>\n",
       "    </tr>\n",
       "    <tr>\n",
       "      <th>711</th>\n",
       "      <td>Intel</td>\n",
       "      <td>0</td>\n",
       "    </tr>\n",
       "  </tbody>\n",
       "</table>\n",
       "</div>"
      ],
      "text/plain": [
       "      CPU Brand  CPU Brand\n",
       "1232      Intel          0\n",
       "1030        AMD          1\n",
       "163       Intel          0\n",
       "1012      Intel          0\n",
       "711       Intel          0"
      ]
     },
     "metadata": {},
     "output_type": "display_data"
    }
   ],
   "source": [
    "# Show some sample data\n",
    "display(pd.concat([top_cpus,cpu_prod_encoded],axis = 1).sample(5,random_state=42))\n",
    "display(pd.concat([cpu_features_raw[\"CPU Brand\"],cpu_brand_encoded],axis = 1).sample(5,random_state = 1))"
   ]
  },
  {
   "cell_type": "code",
   "execution_count": 93,
   "metadata": {},
   "outputs": [
    {
     "data": {
      "text/html": [
       "<div>\n",
       "<style scoped>\n",
       "    .dataframe tbody tr th:only-of-type {\n",
       "        vertical-align: middle;\n",
       "    }\n",
       "\n",
       "    .dataframe tbody tr th {\n",
       "        vertical-align: top;\n",
       "    }\n",
       "\n",
       "    .dataframe thead th {\n",
       "        text-align: right;\n",
       "    }\n",
       "</style>\n",
       "<table border=\"1\" class=\"dataframe\">\n",
       "  <thead>\n",
       "    <tr style=\"text-align: right;\">\n",
       "      <th></th>\n",
       "      <th>CPU Brand</th>\n",
       "      <th>CPU Product</th>\n",
       "      <th>CPU Ghz</th>\n",
       "      <th>CPU Core Count</th>\n",
       "    </tr>\n",
       "  </thead>\n",
       "  <tbody>\n",
       "    <tr>\n",
       "      <th>248</th>\n",
       "      <td>0</td>\n",
       "      <td>5</td>\n",
       "      <td>1.6</td>\n",
       "      <td>NaN</td>\n",
       "    </tr>\n",
       "    <tr>\n",
       "      <th>555</th>\n",
       "      <td>0</td>\n",
       "      <td>10</td>\n",
       "      <td>1.1</td>\n",
       "      <td>2.0</td>\n",
       "    </tr>\n",
       "    <tr>\n",
       "      <th>1250</th>\n",
       "      <td>1</td>\n",
       "      <td>2</td>\n",
       "      <td>2.5</td>\n",
       "      <td>NaN</td>\n",
       "    </tr>\n",
       "    <tr>\n",
       "      <th>547</th>\n",
       "      <td>0</td>\n",
       "      <td>14</td>\n",
       "      <td>2.3</td>\n",
       "      <td>NaN</td>\n",
       "    </tr>\n",
       "    <tr>\n",
       "      <th>885</th>\n",
       "      <td>0</td>\n",
       "      <td>1</td>\n",
       "      <td>2.5</td>\n",
       "      <td>NaN</td>\n",
       "    </tr>\n",
       "  </tbody>\n",
       "</table>\n",
       "</div>"
      ],
      "text/plain": [
       "      CPU Brand  CPU Product  CPU Ghz  CPU Core Count\n",
       "248           0            5      1.6             NaN\n",
       "555           0           10      1.1             2.0\n",
       "1250          1            2      2.5             NaN\n",
       "547           0           14      2.3             NaN\n",
       "885           0            1      2.5             NaN"
      ]
     },
     "execution_count": 93,
     "metadata": {},
     "output_type": "execute_result"
    }
   ],
   "source": [
    "# Bring together all CPU features (brand code, product code, clock speed, core count) into a single dataframe variable\n",
    "cpu_features = pd.concat([\n",
    "    cpu_brand_encoded, # cpu brand\n",
    "    cpu_prod_encoded, # cpu product name\n",
    "    cpu_features_raw[\"CPU Ghz\"], # cpu clock speed\n",
    "    cpu_features_raw[\"CPU Core Count\"] # cpu core count\n",
    "],axis = 1)\n",
    "\n",
    "# display some sample data\n",
    "cpu_features.sample(5,random_state = 2)"
   ]
  },
  {
   "cell_type": "markdown",
   "metadata": {},
   "source": [
    "#### Feature Engineering: GPU"
   ]
  },
  {
   "cell_type": "code",
   "execution_count": 94,
   "metadata": {},
   "outputs": [],
   "source": [
    "# since GPU data contains brand and product only, simple \"split\" operation is sufficient to parse\n",
    "gpu_features_raw = pd.DataFrame(price_df[\"GPU\"].str.split(\" \",n=1).to_list(),columns = [\"GPU Brand\",\"GPU Product\"])"
   ]
  },
  {
   "cell_type": "code",
   "execution_count": 95,
   "metadata": {},
   "outputs": [
    {
     "name": "stdout",
     "output_type": "stream",
     "text": [
      "Top 22 GPU products constitute 80.7% of all possible CPU product types\n"
     ]
    }
   ],
   "source": [
    "# Compute top N GPU product types and determine if encoding is appropriate\n",
    "\n",
    "N_gpu = 22\n",
    "replace_string_gpu_prod = \"Other\"\n",
    "top_gpus, top_gpu_ratio = TopNCategories(gpu_features_raw[\"GPU Product\"],N = N_gpu,replace_string=replace_string_gpu_prod)\n",
    "\n",
    "print(f\"Top {N_gpu} GPU products constitute {round(top_gpu_ratio*100,1)}% of all possible CPU product types\")"
   ]
  },
  {
   "cell_type": "code",
   "execution_count": 96,
   "metadata": {},
   "outputs": [
    {
     "name": "stdout",
     "output_type": "stream",
     "text": [
      "Top 8 constitute 100% of all possible GPU brands\n"
     ]
    }
   ],
   "source": [
    "# Compute top N GPU brands and determine if encoding is appropriate\n",
    "N_gpu_brand = 8\n",
    "replace_string_gpu_brand = \"Other\"\n",
    "top_gpu_brands, top_gpu_brand_ratio = TopNCategories(gpu_features_raw[\"GPU Brand\"],N = N_gpu,replace_string = replace_string_gpu_brand)\n",
    "\n",
    "print(f\"Top {N_gpu_brand} constitute {round(top_gpu_brand_ratio)*100}% of all possible GPU brands\")"
   ]
  },
  {
   "cell_type": "code",
   "execution_count": 97,
   "metadata": {},
   "outputs": [],
   "source": [
    "# Since encoding makes sense for both GPU product and GPU brand, encode top N for both\n",
    "gpu_prod_encoded,gpu_prod_code_map = NumericalEncode(top_gpus,replace_string = replace_string_gpu_prod)\n",
    "gpu_brand_encoded,gpu_brand_code_map = NumericalEncode(top_gpu_brands, replace_string = replace_string_gpu_brand)"
   ]
  },
  {
   "cell_type": "code",
   "execution_count": 98,
   "metadata": {},
   "outputs": [
    {
     "data": {
      "text/html": [
       "<div>\n",
       "<style scoped>\n",
       "    .dataframe tbody tr th:only-of-type {\n",
       "        vertical-align: middle;\n",
       "    }\n",
       "\n",
       "    .dataframe tbody tr th {\n",
       "        vertical-align: top;\n",
       "    }\n",
       "\n",
       "    .dataframe thead th {\n",
       "        text-align: right;\n",
       "    }\n",
       "</style>\n",
       "<table border=\"1\" class=\"dataframe\">\n",
       "  <thead>\n",
       "    <tr style=\"text-align: right;\">\n",
       "      <th></th>\n",
       "      <th>GPU Product</th>\n",
       "      <th>GPU Product</th>\n",
       "    </tr>\n",
       "  </thead>\n",
       "  <tbody>\n",
       "    <tr>\n",
       "      <th>478</th>\n",
       "      <td>Radeon 520</td>\n",
       "      <td>16</td>\n",
       "    </tr>\n",
       "    <tr>\n",
       "      <th>724</th>\n",
       "      <td>GeForce GTX 1050 Ti</td>\n",
       "      <td>18</td>\n",
       "    </tr>\n",
       "    <tr>\n",
       "      <th>312</th>\n",
       "      <td>GeForce GTX 1070</td>\n",
       "      <td>17</td>\n",
       "    </tr>\n",
       "    <tr>\n",
       "      <th>851</th>\n",
       "      <td>GeForce GTX 1060</td>\n",
       "      <td>14</td>\n",
       "    </tr>\n",
       "    <tr>\n",
       "      <th>1275</th>\n",
       "      <td>HD Graphics 620</td>\n",
       "      <td>1</td>\n",
       "    </tr>\n",
       "  </tbody>\n",
       "</table>\n",
       "</div>"
      ],
      "text/plain": [
       "              GPU Product  GPU Product\n",
       "478            Radeon 520           16\n",
       "724   GeForce GTX 1050 Ti           18\n",
       "312      GeForce GTX 1070           17\n",
       "851      GeForce GTX 1060           14\n",
       "1275      HD Graphics 620            1"
      ]
     },
     "metadata": {},
     "output_type": "display_data"
    },
    {
     "data": {
      "text/html": [
       "<div>\n",
       "<style scoped>\n",
       "    .dataframe tbody tr th:only-of-type {\n",
       "        vertical-align: middle;\n",
       "    }\n",
       "\n",
       "    .dataframe tbody tr th {\n",
       "        vertical-align: top;\n",
       "    }\n",
       "\n",
       "    .dataframe thead th {\n",
       "        text-align: right;\n",
       "    }\n",
       "</style>\n",
       "<table border=\"1\" class=\"dataframe\">\n",
       "  <thead>\n",
       "    <tr style=\"text-align: right;\">\n",
       "      <th></th>\n",
       "      <th>GPU Brand</th>\n",
       "      <th>GPU Brand</th>\n",
       "    </tr>\n",
       "  </thead>\n",
       "  <tbody>\n",
       "    <tr>\n",
       "      <th>1232</th>\n",
       "      <td>Nvidia</td>\n",
       "      <td>2</td>\n",
       "    </tr>\n",
       "    <tr>\n",
       "      <th>1030</th>\n",
       "      <td>AMD</td>\n",
       "      <td>1</td>\n",
       "    </tr>\n",
       "    <tr>\n",
       "      <th>163</th>\n",
       "      <td>Nvidia</td>\n",
       "      <td>2</td>\n",
       "    </tr>\n",
       "    <tr>\n",
       "      <th>1012</th>\n",
       "      <td>Intel</td>\n",
       "      <td>0</td>\n",
       "    </tr>\n",
       "    <tr>\n",
       "      <th>711</th>\n",
       "      <td>Nvidia</td>\n",
       "      <td>2</td>\n",
       "    </tr>\n",
       "  </tbody>\n",
       "</table>\n",
       "</div>"
      ],
      "text/plain": [
       "      GPU Brand  GPU Brand\n",
       "1232     Nvidia          2\n",
       "1030        AMD          1\n",
       "163      Nvidia          2\n",
       "1012      Intel          0\n",
       "711      Nvidia          2"
      ]
     },
     "metadata": {},
     "output_type": "display_data"
    }
   ],
   "source": [
    "# Show some sample data\n",
    "display(pd.concat([gpu_features_raw[\"GPU Product\"],gpu_prod_encoded],axis = 1).sample(5,random_state = 42))\n",
    "display(pd.concat([gpu_features_raw[\"GPU Brand\"],gpu_brand_encoded],axis = 1).sample(5,random_state=1))"
   ]
  },
  {
   "cell_type": "code",
   "execution_count": 99,
   "metadata": {},
   "outputs": [
    {
     "data": {
      "text/html": [
       "<div>\n",
       "<style scoped>\n",
       "    .dataframe tbody tr th:only-of-type {\n",
       "        vertical-align: middle;\n",
       "    }\n",
       "\n",
       "    .dataframe tbody tr th {\n",
       "        vertical-align: top;\n",
       "    }\n",
       "\n",
       "    .dataframe thead th {\n",
       "        text-align: right;\n",
       "    }\n",
       "</style>\n",
       "<table border=\"1\" class=\"dataframe\">\n",
       "  <thead>\n",
       "    <tr style=\"text-align: right;\">\n",
       "      <th></th>\n",
       "      <th>GPU Brand</th>\n",
       "      <th>GPU Product</th>\n",
       "    </tr>\n",
       "  </thead>\n",
       "  <tbody>\n",
       "    <tr>\n",
       "      <th>478</th>\n",
       "      <td>1</td>\n",
       "      <td>16</td>\n",
       "    </tr>\n",
       "    <tr>\n",
       "      <th>724</th>\n",
       "      <td>2</td>\n",
       "      <td>18</td>\n",
       "    </tr>\n",
       "    <tr>\n",
       "      <th>312</th>\n",
       "      <td>2</td>\n",
       "      <td>17</td>\n",
       "    </tr>\n",
       "    <tr>\n",
       "      <th>851</th>\n",
       "      <td>2</td>\n",
       "      <td>14</td>\n",
       "    </tr>\n",
       "    <tr>\n",
       "      <th>1275</th>\n",
       "      <td>0</td>\n",
       "      <td>1</td>\n",
       "    </tr>\n",
       "  </tbody>\n",
       "</table>\n",
       "</div>"
      ],
      "text/plain": [
       "      GPU Brand  GPU Product\n",
       "478           1           16\n",
       "724           2           18\n",
       "312           2           17\n",
       "851           2           14\n",
       "1275          0            1"
      ]
     },
     "execution_count": 99,
     "metadata": {},
     "output_type": "execute_result"
    }
   ],
   "source": [
    "# combine all GPU features into a single dataframe variable\n",
    "\n",
    "gpu_features = pd.concat([gpu_brand_encoded,gpu_prod_encoded],axis = 1)\n",
    "gpu_features.sample(5,random_state = 42)"
   ]
  },
  {
   "cell_type": "markdown",
   "metadata": {},
   "source": [
    "#### Feature Engineering: RAM"
   ]
  },
  {
   "cell_type": "code",
   "execution_count": 100,
   "metadata": {},
   "outputs": [],
   "source": [
    "# Convert RAM to integer by removing units \"GB\"\n",
    "\n",
    "# Note: hard coding units as \"GB\" is appropriate here because 1) the era of MB-level RAM is over and 2) TB RAM is a long way off\n",
    "\n",
    "ram_gb = price_df[\"RAM\"].str.replace(\"GB\",\"\",regex=False).str.strip().astype(\"int\")"
   ]
  },
  {
   "cell_type": "markdown",
   "metadata": {},
   "source": [
    "#### Feature Engineeering: Storage"
   ]
  },
  {
   "cell_type": "code",
   "execution_count": 101,
   "metadata": {},
   "outputs": [],
   "source": [
    "# Use a dedicated function to parse storage data into primary and secondary storage (separated by \"+\")\n",
    "# ...then identify format and total GB for each storage drive\n",
    "\n",
    "def FeaturizeStorage(storage_spec:str) -> Dict:\n",
    "\n",
    "    parts = storage_spec.split(\"+\") # split storage spec into primary and secondary (secondary may be null)\n",
    "    disk_spec_list = []\n",
    "\n",
    "    # loop over primary and secondary drive data\n",
    "    for part in parts:\n",
    "        part = part.strip()\n",
    "        pattern_size_unit = r'(?P<size>\\d+\\.?\\d*)\\s*(?P<unit>GB|TB)' # identify quantity and units of storage\n",
    "        pattern_format = r'(HDD|SSD|Flash Storage|Hybrid)' # identify drive format\n",
    "\n",
    "        size_unit_match = re.search(pattern_size_unit,part,re.IGNORECASE)\n",
    "\n",
    "        # convert all units to GB\n",
    "        if size_unit_match:\n",
    "            disk_spec = size_unit_match.groupdict()\n",
    "            storage_unit_dict = {\"GB\":1,\"TB\":1000} \n",
    "            multiplier = storage_unit_dict.get(disk_spec[\"unit\"].upper(),1)\n",
    "            size_gb = float(disk_spec[\"size\"])*multiplier\n",
    "        \n",
    "        else:\n",
    "            size_gb = 0\n",
    "\n",
    "        # identify a format segment for all quantities of storage\n",
    "        format_match = re.search(pattern_format,part,re.IGNORECASE)\n",
    "        \n",
    "        # if the format is not seen in the training data (all formats in training are accounted for in this function),\n",
    "        # ... assign an \"Other\" format\n",
    "        if format_match:\n",
    "            format = format_match.group(1).upper()\n",
    "        else:\n",
    "            format = \"OTHER\"\n",
    "\n",
    "        disk_spec_list.append({\"size\":size_gb,\"format\":format})\n",
    "\n",
    "    storage_parsed = {}\n",
    "\n",
    "    # parse the total quantity of GB into each format type, as well as total GB\n",
    "    total = sum(disk[\"size\"] for disk in disk_spec_list)\n",
    "    ssd = sum(disk[\"size\"] for disk in disk_spec_list if disk[\"format\"] == \"SSD\")\n",
    "    hdd = sum(disk[\"size\"] for disk in disk_spec_list if disk[\"format\"] == \"HDD\")\n",
    "    flash = sum(disk[\"size\"] for disk in disk_spec_list if disk[\"format\"] == \"FLASH STORAGE\")\n",
    "    hybrid = sum(disk[\"size\"] for disk in disk_spec_list if disk[\"format\"] == \"HYBRID\")\n",
    "    other = sum(disk[\"size\"] for disk in disk_spec_list if disk[\"format\"] == \"OTHER\")\n",
    "\n",
    "    num_disks = len(disk_spec_list) if total > 0 else 0 # store number of drives (primary = 1 or primary + secondary = 2)\n",
    "\n",
    "    # return a dictionary of total GB, GB segmented by drive format, and total disks\n",
    "    storage_parsed = {\n",
    "        \"Total GB\":total,\n",
    "        \"SSD GB\":ssd,\n",
    "        \"HDD GB\":hdd,\n",
    "        \"Flash GB\":flash,\n",
    "        \"Hybrid GB\":hybrid,\n",
    "        \"Other GB\":other,\n",
    "        \"Disk Count\":num_disks\n",
    "        }\n",
    "    \n",
    "    return storage_parsed"
   ]
  },
  {
   "cell_type": "code",
   "execution_count": 102,
   "metadata": {},
   "outputs": [
    {
     "data": {
      "text/html": [
       "<div>\n",
       "<style scoped>\n",
       "    .dataframe tbody tr th:only-of-type {\n",
       "        vertical-align: middle;\n",
       "    }\n",
       "\n",
       "    .dataframe tbody tr th {\n",
       "        vertical-align: top;\n",
       "    }\n",
       "\n",
       "    .dataframe thead th {\n",
       "        text-align: right;\n",
       "    }\n",
       "</style>\n",
       "<table border=\"1\" class=\"dataframe\">\n",
       "  <thead>\n",
       "    <tr style=\"text-align: right;\">\n",
       "      <th></th>\n",
       "      <th>Storage</th>\n",
       "      <th>Total GB</th>\n",
       "      <th>SSD GB</th>\n",
       "      <th>HDD GB</th>\n",
       "      <th>Flash GB</th>\n",
       "      <th>Hybrid GB</th>\n",
       "      <th>Other GB</th>\n",
       "      <th>Disk Count</th>\n",
       "    </tr>\n",
       "  </thead>\n",
       "  <tbody>\n",
       "    <tr>\n",
       "      <th>1232</th>\n",
       "      <td>256GB SSD +  1TB HDD</td>\n",
       "      <td>1256.0</td>\n",
       "      <td>256.0</td>\n",
       "      <td>1000.0</td>\n",
       "      <td>0.0</td>\n",
       "      <td>0.0</td>\n",
       "      <td>0</td>\n",
       "      <td>2</td>\n",
       "    </tr>\n",
       "    <tr>\n",
       "      <th>1030</th>\n",
       "      <td>1TB HDD</td>\n",
       "      <td>1000.0</td>\n",
       "      <td>0.0</td>\n",
       "      <td>1000.0</td>\n",
       "      <td>0.0</td>\n",
       "      <td>0.0</td>\n",
       "      <td>0</td>\n",
       "      <td>1</td>\n",
       "    </tr>\n",
       "    <tr>\n",
       "      <th>163</th>\n",
       "      <td>256GB SSD</td>\n",
       "      <td>256.0</td>\n",
       "      <td>256.0</td>\n",
       "      <td>0.0</td>\n",
       "      <td>0.0</td>\n",
       "      <td>0.0</td>\n",
       "      <td>0</td>\n",
       "      <td>1</td>\n",
       "    </tr>\n",
       "    <tr>\n",
       "      <th>1012</th>\n",
       "      <td>256GB SSD</td>\n",
       "      <td>256.0</td>\n",
       "      <td>256.0</td>\n",
       "      <td>0.0</td>\n",
       "      <td>0.0</td>\n",
       "      <td>0.0</td>\n",
       "      <td>0</td>\n",
       "      <td>1</td>\n",
       "    </tr>\n",
       "    <tr>\n",
       "      <th>711</th>\n",
       "      <td>256GB SSD</td>\n",
       "      <td>256.0</td>\n",
       "      <td>256.0</td>\n",
       "      <td>0.0</td>\n",
       "      <td>0.0</td>\n",
       "      <td>0.0</td>\n",
       "      <td>0</td>\n",
       "      <td>1</td>\n",
       "    </tr>\n",
       "  </tbody>\n",
       "</table>\n",
       "</div>"
      ],
      "text/plain": [
       "                   Storage  Total GB  SSD GB  HDD GB  Flash GB  Hybrid GB  \\\n",
       "1232  256GB SSD +  1TB HDD    1256.0   256.0  1000.0       0.0        0.0   \n",
       "1030               1TB HDD    1000.0     0.0  1000.0       0.0        0.0   \n",
       "163              256GB SSD     256.0   256.0     0.0       0.0        0.0   \n",
       "1012             256GB SSD     256.0   256.0     0.0       0.0        0.0   \n",
       "711              256GB SSD     256.0   256.0     0.0       0.0        0.0   \n",
       "\n",
       "      Other GB  Disk Count  \n",
       "1232         0           2  \n",
       "1030         0           1  \n",
       "163          0           1  \n",
       "1012         0           1  \n",
       "711          0           1  "
      ]
     },
     "metadata": {},
     "output_type": "display_data"
    }
   ],
   "source": [
    "# apply the function to the training data\n",
    "storage_features = pd.DataFrame(price_df[\" Storage\"].apply(FeaturizeStorage).tolist())\n",
    "\n",
    "# display some sample data\n",
    "display(pd.concat([price_df[\" Storage\"],storage_features],axis =1).sample(5,random_state = 1))"
   ]
  },
  {
   "cell_type": "markdown",
   "metadata": {},
   "source": [
    "#### Feature Engineering: Operating System"
   ]
  },
  {
   "cell_type": "code",
   "execution_count": 103,
   "metadata": {},
   "outputs": [
    {
     "name": "stdout",
     "output_type": "stream",
     "text": [
      "Top 8 operating systems constitute 100.0% of all possible operating system types\n"
     ]
    }
   ],
   "source": [
    "# Compute to N operating systems and determine if numerical encoding is appropriate\n",
    "N_os = 8\n",
    "replace_string_os = \"Other\"\n",
    "top_os, top_os_ratio = TopNCategories(price_df[\"Operating System\"],N = N_os,replace_string=replace_string_os)\n",
    "\n",
    "print(f\"Top {N_os} operating systems constitute {round(top_os_ratio*100,1)}% of all possible operating system types\")"
   ]
  },
  {
   "cell_type": "code",
   "execution_count": 104,
   "metadata": {},
   "outputs": [
    {
     "data": {
      "text/html": [
       "<div>\n",
       "<style scoped>\n",
       "    .dataframe tbody tr th:only-of-type {\n",
       "        vertical-align: middle;\n",
       "    }\n",
       "\n",
       "    .dataframe tbody tr th {\n",
       "        vertical-align: top;\n",
       "    }\n",
       "\n",
       "    .dataframe thead th {\n",
       "        text-align: right;\n",
       "    }\n",
       "</style>\n",
       "<table border=\"1\" class=\"dataframe\">\n",
       "  <thead>\n",
       "    <tr style=\"text-align: right;\">\n",
       "      <th></th>\n",
       "      <th>Operating System</th>\n",
       "      <th>Operating System</th>\n",
       "    </tr>\n",
       "  </thead>\n",
       "  <tbody>\n",
       "    <tr>\n",
       "      <th>248</th>\n",
       "      <td>Windows</td>\n",
       "      <td>2</td>\n",
       "    </tr>\n",
       "    <tr>\n",
       "      <th>555</th>\n",
       "      <td>Linux</td>\n",
       "      <td>3</td>\n",
       "    </tr>\n",
       "    <tr>\n",
       "      <th>1250</th>\n",
       "      <td>Windows</td>\n",
       "      <td>2</td>\n",
       "    </tr>\n",
       "    <tr>\n",
       "      <th>547</th>\n",
       "      <td>No OS</td>\n",
       "      <td>1</td>\n",
       "    </tr>\n",
       "    <tr>\n",
       "      <th>885</th>\n",
       "      <td>Windows</td>\n",
       "      <td>2</td>\n",
       "    </tr>\n",
       "  </tbody>\n",
       "</table>\n",
       "</div>"
      ],
      "text/plain": [
       "      Operating System  Operating System\n",
       "248            Windows                 2\n",
       "555              Linux                 3\n",
       "1250           Windows                 2\n",
       "547              No OS                 1\n",
       "885            Windows                 2"
      ]
     },
     "metadata": {},
     "output_type": "display_data"
    }
   ],
   "source": [
    "# Since encoding makes sense for operating system, encode to integers\n",
    "os_encoded,os_code_map = NumericalEncode(top_os,replace_string=replace_string_os)\n",
    "\n",
    "# display some sample data\n",
    "display(pd.concat([price_df[\"Operating System\"],os_encoded],axis = 1).sample(5,random_state = 2))"
   ]
  },
  {
   "cell_type": "code",
   "execution_count": 105,
   "metadata": {},
   "outputs": [
    {
     "name": "stdout",
     "output_type": "stream",
     "text": [
      "Top 8 operating systems constitute 100.0% of all possible OS version types\n"
     ]
    }
   ],
   "source": [
    "# Compute to N operating system version and determine if numerical encoding is appropriate\n",
    "N_version = 8\n",
    "replace_string_version = \"Other\"\n",
    "top_version,top_version_ratio = TopNCategories(price_df[\"Operating System Version\"],N = N_version,replace_string = replace_string_version)\n",
    "\n",
    "print(f\"Top {N_version} operating systems constitute {round(top_version_ratio*100,1)}% of all possible OS version types\")"
   ]
  },
  {
   "cell_type": "code",
   "execution_count": 106,
   "metadata": {},
   "outputs": [
    {
     "data": {
      "text/html": [
       "<div>\n",
       "<style scoped>\n",
       "    .dataframe tbody tr th:only-of-type {\n",
       "        vertical-align: middle;\n",
       "    }\n",
       "\n",
       "    .dataframe tbody tr th {\n",
       "        vertical-align: top;\n",
       "    }\n",
       "\n",
       "    .dataframe thead th {\n",
       "        text-align: right;\n",
       "    }\n",
       "</style>\n",
       "<table border=\"1\" class=\"dataframe\">\n",
       "  <thead>\n",
       "    <tr style=\"text-align: right;\">\n",
       "      <th></th>\n",
       "      <th>Operating System Version</th>\n",
       "      <th>Operating System Version</th>\n",
       "    </tr>\n",
       "  </thead>\n",
       "  <tbody>\n",
       "    <tr>\n",
       "      <th>347</th>\n",
       "      <td>10</td>\n",
       "      <td>2</td>\n",
       "    </tr>\n",
       "    <tr>\n",
       "      <th>1060</th>\n",
       "      <td>No OS</td>\n",
       "      <td>1</td>\n",
       "    </tr>\n",
       "    <tr>\n",
       "      <th>374</th>\n",
       "      <td>10</td>\n",
       "      <td>2</td>\n",
       "    </tr>\n",
       "    <tr>\n",
       "      <th>361</th>\n",
       "      <td>10</td>\n",
       "      <td>2</td>\n",
       "    </tr>\n",
       "    <tr>\n",
       "      <th>1093</th>\n",
       "      <td>7</td>\n",
       "      <td>5</td>\n",
       "    </tr>\n",
       "  </tbody>\n",
       "</table>\n",
       "</div>"
      ],
      "text/plain": [
       "      Operating System Version  Operating System Version\n",
       "347                         10                         2\n",
       "1060                     No OS                         1\n",
       "374                         10                         2\n",
       "361                         10                         2\n",
       "1093                         7                         5"
      ]
     },
     "metadata": {},
     "output_type": "display_data"
    }
   ],
   "source": [
    "# Since encoding makes sense for operating system version, encode to integers\n",
    "version_encoded,version_code_map = NumericalEncode(top_version,replace_string = replace_string_version)\n",
    "\n",
    "# Display some sample data\n",
    "display(pd.concat([price_df[\"Operating System Version\"],version_encoded],axis = 1).sample(5,random_state=7))"
   ]
  },
  {
   "cell_type": "markdown",
   "metadata": {},
   "source": [
    "#### Feature Engineering: Weight"
   ]
  },
  {
   "cell_type": "code",
   "execution_count": 107,
   "metadata": {},
   "outputs": [
    {
     "data": {
      "image/png": "[encoded data removed]",
      "text/plain": [
       "<Figure size 640x480 with 1 Axes>"
      ]
     },
     "metadata": {},
     "output_type": "display_data"
    }
   ],
   "source": [
    "# Convert weight to numerical values by removing units \"kg\" and recasting as float\n",
    "weight_kg = pd.DataFrame(price_df[\"Weight\"].str.upper().str.split(\"KG\").tolist(),columns = [\"Weight\",\"Blank\"])[\"Weight\"].astype(\"float\")\n",
    "\n",
    "# Create a histogram of weight values to ensure that there are no outliers or weird behavior\n",
    "plot_bins = np.arange(\n",
    "    start = int(weight_kg.min()), \n",
    "    stop = int(weight_kg.max())+0.5, \n",
    "    step = 0.5\n",
    ")\n",
    "\n",
    "ax = sns.histplot(data = weight_kg,kde=True,bins = plot_bins,color = \"green\")\n",
    "ax.set_xticks(plot_bins)\n",
    "ax.set_xlabel(\"Laptop Weight (Kilograms)\")\n",
    "ax.set_ylabel(\"Row Count\")\n",
    "ax.set_title(\"Laptop Weight Training Data Histplot\");\n"
   ]
  },
  {
   "cell_type": "markdown",
   "metadata": {},
   "source": [
    "### Section 3: Assemble and Evaluate Training Dataset"
   ]
  },
  {
   "cell_type": "code",
   "execution_count": 108,
   "metadata": {},
   "outputs": [],
   "source": [
    "# Assemble all engineered features into a single dataframe\n",
    "# this cell notes which features will need to be passed to LightGBM as integer-encoded type\n",
    "\n",
    "X_prelim = pd.concat([\n",
    "    manuf_encoded,      # encoded\n",
    "    model_freq,         # numeric\n",
    "    category_encoded,   # encoded\n",
    "    screen_features,    # numerical\n",
    "    cpu_features,       # encoded (brand, product); numeric (Ghz, core count)\n",
    "    gpu_features,       # encoded (brand, product)\n",
    "    ram_gb,             # numeric\n",
    "    storage_features,   # numeric\n",
    "    os_encoded,         # encoded\n",
    "    version_encoded,    # encoded\n",
    "    weight_kg           # numeric\n",
    "],axis = 1\n",
    ")"
   ]
  },
  {
   "cell_type": "code",
   "execution_count": 109,
   "metadata": {},
   "outputs": [
    {
     "data": {
      "text/plain": [
       "[Text(0.5, 1.0, 'Correlation Matrix of Model Numeric Features')]"
      ]
     },
     "execution_count": 109,
     "metadata": {},
     "output_type": "execute_result"
    },
    {
     "data": {
      "image/png": "[encoded data removed]",
      "text/plain": [
       "<Figure size 640x480 with 2 Axes>"
      ]
     },
     "metadata": {},
     "output_type": "display_data"
    }
   ],
   "source": [
    "# Create a correlation matrix of numeric (not integer-encoded) values\n",
    "sns.heatmap(\n",
    "    data = X_prelim[[\n",
    "        \"CPU Ghz\",\n",
    "        \"RAM\",\n",
    "        \"Weight\",\n",
    "        \"Screen Resolution\",\n",
    "        \"Total GB\"\n",
    "        ]].corr(),\n",
    "    vmin = -1,\n",
    "    vmax = 1,\n",
    "    annot = True,\n",
    "    fmt = \".2f\",\n",
    "    cmap = \"coolwarm\",\n",
    "    square = True,\n",
    "    cbar_kws={\"shrink\":0.75}\n",
    ").set(title = \"Correlation Matrix of Model Numeric Features\")\n"
   ]
  },
  {
   "cell_type": "markdown",
   "metadata": {},
   "source": [
    "**Correlation Matrix Takeaways**\n",
    "* There is surprisingly strong correlation between many of these features but no obvious opportunities to combine. \n",
    "\n",
    "* `Weight` should be held out of the dataset for now; it correlates strongly with CPU processing power and storage capacity, but does not generate value for users in the way that CPU and storage do. "
   ]
  },
  {
   "cell_type": "code",
   "execution_count": 110,
   "metadata": {},
   "outputs": [],
   "source": [
    "X_prelim = X_prelim.drop(\"Weight\",axis = 1)"
   ]
  },
  {
   "cell_type": "markdown",
   "metadata": {},
   "source": [
    "During model evaluation, I built a frequency feature (i.e. count of instances appearing in the dataset) for Model. In early model training runs, it had the highest feature importance.\n",
    "\n",
    "I removed this feature because, when serving predictions through the model API, this feature will have no meaning. All models passed through prediction requests will have an n = 1."
   ]
  },
  {
   "cell_type": "code",
   "execution_count": 111,
   "metadata": {},
   "outputs": [],
   "source": [
    "X_prelim = X_prelim.drop(\"Model Freq\",axis = 1)"
   ]
  },
  {
   "cell_type": "markdown",
   "metadata": {},
   "source": [
    "### Section 4: Model Fitting and Hyperparameter Tuning"
   ]
  },
  {
   "cell_type": "code",
   "execution_count": 112,
   "metadata": {},
   "outputs": [
    {
     "name": "stdout",
     "output_type": "stream",
     "text": [
      "[]\n"
     ]
    }
   ],
   "source": [
    "# make sure that all datatypes are numeric before proceeding to fitting & tuning\n",
    "X_typelist = X_prelim.select_dtypes(exclude=[\"number\"]).columns.tolist()\n",
    "\n",
    "try:\n",
    "    X_typelist == []\n",
    "except:\n",
    "    TypeError(\"All values in the training dataset must be numeric datatypes\")\n",
    "\n",
    "print(X_typelist)"
   ]
  },
  {
   "cell_type": "code",
   "execution_count": 113,
   "metadata": {},
   "outputs": [],
   "source": [
    "# convert column names to snake case (ensures compatibility with LightGBM)\n",
    "X_prelim.columns = X_prelim.columns.to_frame()[0].str.replace(\" \",\"_\").str.lower()"
   ]
  },
  {
   "cell_type": "code",
   "execution_count": 114,
   "metadata": {},
   "outputs": [],
   "source": [
    "# separate input variables and target variable\n",
    "X = X_prelim.copy()\n",
    "y = price_df[\"Price\"]"
   ]
  },
  {
   "cell_type": "code",
   "execution_count": 115,
   "metadata": {},
   "outputs": [],
   "source": [
    "# explicity identify data columns containing encoded variables\n",
    "# LightGBM needs to be told that these columns are encoded and not ordinary numeric data\n",
    "categorical_cols = [\n",
    "    \"manufacturer\",\n",
    "    \"category\",\n",
    "    \"cpu_brand\",\n",
    "    \"cpu_product\",\n",
    "    \"gpu_brand\",\n",
    "    \"gpu_product\",\n",
    "    \"operating_system\",\n",
    "    \"operating_system_version\"\n",
    "]\n",
    "\n",
    "# LightGBM docs recommend that all encoded columns be explicity set to integer type\n",
    "for col in categorical_cols:\n",
    "    X[col] = X[col].astype(\"int\")"
   ]
  },
  {
   "cell_type": "code",
   "execution_count": 116,
   "metadata": {},
   "outputs": [],
   "source": [
    "# tune hyperparameters using optuna\n",
    "# objective is maximum cross-validated r2 score\n",
    "\n",
    "def objective(trial):\n",
    "\n",
    "    params = {\n",
    "        \"num_threads\":4, \n",
    "        \"objective\":\"regression\",\n",
    "        \"metric\":\"mean_squared_error\",\n",
    "        \"verbosity\":-1,\n",
    "        \"boosting_type\":\"gbdt\",\n",
    "        \"reg_alpha\":trial.suggest_float(\"reg_alpha\",1e-8,1.0,log=True),\n",
    "        \"reg_lambda\":trial.suggest_float(\"reg_lambda\",1e-8,1.0,log=True),\n",
    "        \"num_leaves\":trial.suggest_int(\"num_leaves\",5,30),\n",
    "        \"max_depth\":trial.suggest_int(\"max_depth\",5,15),\n",
    "        \"learning_rate\":trial.suggest_float(\"learning_rate\",0.01,0.2),\n",
    "        \"n_estimators\":trial.suggest_int(\"n_estimators\",100,1000),\n",
    "        \"min_child_samples\":trial.suggest_int(\"min_child_samples\",5,50),\n",
    "        \"subsample\":trial.suggest_float(\"subsample\",0.6,1.0),\n",
    "        \"colsample_bytree\":trial.suggest_float(\"colsample_bytree\",0.6,1.0)\n",
    "    }\n",
    "    \n",
    "    cv = KFold(n_splits=5,shuffle = True,random_state = 42)\n",
    "    scores = []\n",
    "\n",
    "    for train_index,valid_index in cv.split(X):\n",
    "        X_train,X_valid = X.iloc[train_index],X.iloc[valid_index]\n",
    "        y_train,y_valid = y.iloc[train_index],y.iloc[valid_index]\n",
    "\n",
    "        # log-transform the target variable to manage issues with right skew\n",
    "        y_train_log = np.log1p(y_train)\n",
    "        y_valid_log = np.log1p(y_valid)\n",
    "\n",
    "        train_data_optuna = lgb.Dataset(X_train,y_train_log,categorical_feature=categorical_cols)\n",
    "        valid_data_optuna = lgb.Dataset(X_valid,y_valid_log,categorical_feature=categorical_cols,reference = train_data_optuna)\n",
    "\n",
    "        model_optuna = lgb.train(\n",
    "            params = params,\n",
    "            train_set = train_data_optuna,\n",
    "            valid_sets = [valid_data_optuna],\n",
    "            num_boost_round = 1000,\n",
    "            callbacks = [lgb.early_stopping(stopping_rounds = 50)],\n",
    "        )\n",
    "\n",
    "        y_pred_log = model_optuna.predict(X_valid,num_iteration = model_optuna.best_iteration)\n",
    "        y_pred = np.expm1(y_pred_log)\n",
    "        fold_r2 = r2_score(y_valid,y_pred)\n",
    "        scores.append(fold_r2)\n",
    "\n",
    "    return np.mean(scores)\n"
   ]
  },
  {
   "cell_type": "code",
   "execution_count": 117,
   "metadata": {},
   "outputs": [],
   "source": [
    "# # execute the hyperparameter optimization and store the results on disk\n",
    "# study = optuna.create_study(direction = \"maximize\")\n",
    "# study.optimize(objective,n_trials = 100)\n",
    "# joblib.dump(study,MODEL_PATH / \"optuna_laptop_price_predictor_results.pkl\")"
   ]
  },
  {
   "cell_type": "code",
   "execution_count": 118,
   "metadata": {},
   "outputs": [],
   "source": [
    "study = joblib.load(MODEL_PATH / \"optuna_laptop_price_predictor_results.pkl\")"
   ]
  },
  {
   "cell_type": "code",
   "execution_count": 119,
   "metadata": {},
   "outputs": [
    {
     "name": "stdout",
     "output_type": "stream",
     "text": [
      "Best Trial:\n",
      "     R2: 0.8841956695147705\n",
      "     Params: \n",
      "     reg_alpha: 2.7793732786774465e-08\n",
      "     reg_lambda: 2.8930996491586605e-06\n",
      "     num_leaves: 8\n",
      "     max_depth: 13\n",
      "     learning_rate: 0.14144297970920416\n",
      "     n_estimators: 916\n",
      "     min_child_samples: 5\n",
      "     subsample: 0.6942383174306365\n",
      "     colsample_bytree: 0.6924894608587872\n"
     ]
    }
   ],
   "source": [
    "print(\"Best Trial:\")\n",
    "trial = study.best_trial\n",
    "print(\"     R2: {}\".format(trial.value))\n",
    "print(\"     Params: \")\n",
    "for key, value in trial.params.items():\n",
    "    print(\"     {}: {}\".format(key,value))"
   ]
  },
  {
   "cell_type": "code",
   "execution_count": 120,
   "metadata": {},
   "outputs": [],
   "source": [
    "# # train the final model using the results of the hyperparameter optimization\n",
    "# train_data = lgb.Dataset(data = X, label = np.log1p(y),categorical_feature=categorical_cols)\n",
    "# model = lgb.train(params = study.best_trial.params,train_set=train_data,num_boost_round=1000)\n",
    "# joblib.dump(model,MODEL_PATH / \"laptop_price_model.pkl\")\n"
   ]
  },
  {
   "cell_type": "code",
   "execution_count": 121,
   "metadata": {},
   "outputs": [],
   "source": [
    "model = joblib.load(MODEL_PATH / \"laptop_price_model.pkl\")"
   ]
  },
  {
   "cell_type": "markdown",
   "metadata": {},
   "source": [
    "### Section 5: Model Results"
   ]
  },
  {
   "cell_type": "code",
   "execution_count": 122,
   "metadata": {},
   "outputs": [
    {
     "data": {
      "image/png": "[encoded data removed]",
      "text/plain": [
       "<Figure size 1000x600 with 1 Axes>"
      ]
     },
     "metadata": {},
     "output_type": "display_data"
    }
   ],
   "source": [
    "# check model feature importances\n",
    "\n",
    "importances = model.feature_importance()\n",
    "feature_names = model.feature_name()\n",
    "\n",
    "fi_df = pd.DataFrame({\n",
    "    \"feature\": feature_names,\n",
    "    \"importance\": importances\n",
    "}).sort_values(by=\"importance\", ascending=False)\n",
    "\n",
    "# Plot\n",
    "plt.figure(figsize=(10,6))\n",
    "plt.barh(fi_df[\"feature\"], fi_df[\"importance\"])\n",
    "plt.gca().invert_yaxis()  \n",
    "plt.title(\"LightGBM Feature Importances\")\n",
    "plt.xlabel(\"Split Importance\")\n",
    "plt.tight_layout()\n",
    "plt.show()\n"
   ]
  },
  {
   "cell_type": "markdown",
   "metadata": {},
   "source": [
    "**Feature Importance Takeaways**\n",
    "* Top features are drivers of value in the real world (screen sharpness, processing speed, storage, memory)\n",
    "* No obvious overfitting to the training set"
   ]
  },
  {
   "cell_type": "markdown",
   "metadata": {},
   "source": [
    "### Section 6: API Preparation"
   ]
  },
  {
   "cell_type": "markdown",
   "metadata": {},
   "source": [
    "Store feature list and encoding maps for use in the API"
   ]
  },
  {
   "cell_type": "code",
   "execution_count": 123,
   "metadata": {},
   "outputs": [],
   "source": [
    "feature_encoding_maps = {\n",
    "    \"manufs\":manuf_code_map,\n",
    "    # \"models\":model_code_map # did not create or use this variable\n",
    "    \"category\":category_code_map,\n",
    "    \"cpu_brand\":cpu_brand_code_map,\n",
    "    \"cpu_prod\":cpu_prod_code_map,\n",
    "    \"gpu_brand\":gpu_brand_code_map,\n",
    "    \"gpu_prod\":gpu_prod_code_map,\n",
    "    \"os\":os_code_map,\n",
    "    \"os_version\":version_code_map\n",
    "}\n",
    "\n",
    "# joblib.dump(feature_encoding_maps,MODEL_PATH / \"laptop_feature_encoding_maps.pkl\")"
   ]
  },
  {
   "cell_type": "code",
   "execution_count": 124,
   "metadata": {},
   "outputs": [],
   "source": [
    "# store model feature names as a separate file on disk; this list will be used in the prediction API\n",
    "model_features = X.columns.tolist()\n",
    "# joblib.dump(model_features,MODEL_PATH / \"laptop_price_model_features.pkl\")"
   ]
  },
  {
   "cell_type": "code",
   "execution_count": 125,
   "metadata": {},
   "outputs": [],
   "source": [
    "replace_strings = {\n",
    "    \"manufs\":replace_string_manuf,\n",
    "    # \"models\": replace_string_model, # did not use this variable\n",
    "    \"category\":replace_string_cat,\n",
    "    \"cpu_brand\":replace_string_cpu_brand,\n",
    "    \"cpu_prod\":replace_string_cpu_prod,\n",
    "    \"gpu_brand\":replace_string_gpu_brand,\n",
    "    \"gpu_prod\":replace_string_gpu_prod,\n",
    "    \"os\":replace_string_os,\n",
    "    \"os_version\":replace_string_version\n",
    "}\n",
    "\n",
    "# joblib.dump(replace_strings, MODEL_PATH / \"laptop_feature_replace_strings.pkl\")"
   ]
  },
  {
   "cell_type": "code",
   "execution_count": null,
   "metadata": {},
   "outputs": [],
   "source": []
  }
 ],
 "metadata": {
  "kernelspec": {
   "display_name": "Python 3",
   "language": "python",
   "name": "python3"
  },
  "language_info": {
   "codemirror_mode": {
    "name": "ipython",
    "version": 3
   },
   "file_extension": ".py",
   "mimetype": "text/x-python",
   "name": "python",
   "nbconvert_exporter": "python",
   "pygments_lexer": "ipython3",
   "version": "3.12.9"
  }
 },
 "nbformat": 4,
 "nbformat_minor": 2
}
